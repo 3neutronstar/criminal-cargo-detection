{
 "cells": [
  {
   "cell_type": "code",
   "execution_count": 1,
   "metadata": {},
   "outputs": [],
   "source": [
    "import os\n",
    "import numpy as np\n",
    "import pandas as pd\n",
    "import matplotlib.pyplot as plt\n",
    "import seaborn as sns\n",
    "import keras\n",
    "import sklearn\n",
    "\n",
    "plt.style.use('seaborn')\n",
    "sns.set(font_scale=2.5) # 이 두줄은 본 필자가 항상 쓰는 방법입니다. matplotlib 의 기본 scheme 말고 seaborn scheme 을 세팅하고, 일일이 graph 의 font size 를 지정할 필요 없이 seaborn 의 font_scale 을 사용하면 편합니다.\n",
    "import missingno as msno\n",
    "\n",
    "#ignore warnings\n",
    "import warnings\n",
    "warnings.filterwarnings('ignore') # 워닝 메세지를 생략해 줍니다. 차후 버전관리를 위해 필요한 정보라고 생각하시면 주석처리 하시면 됩니다.\n",
    "%matplotlib inline"
   ]
  },
  {
   "cell_type": "code",
   "execution_count": 61,
   "metadata": {},
   "outputs": [
    {
     "data": {
      "text/html": [
       "<div>\n",
       "<style scoped>\n",
       "    .dataframe tbody tr th:only-of-type {\n",
       "        vertical-align: middle;\n",
       "    }\n",
       "\n",
       "    .dataframe tbody tr th {\n",
       "        vertical-align: top;\n",
       "    }\n",
       "\n",
       "    .dataframe thead th {\n",
       "        text-align: right;\n",
       "    }\n",
       "</style>\n",
       "<table border=\"1\" class=\"dataframe\">\n",
       "  <thead>\n",
       "    <tr style=\"text-align: right;\">\n",
       "      <th></th>\n",
       "      <th>신고번호</th>\n",
       "      <th>신고일자</th>\n",
       "      <th>통관지세관부호</th>\n",
       "      <th>신고인부호</th>\n",
       "      <th>수입자부호</th>\n",
       "      <th>해외거래처부호</th>\n",
       "      <th>특송업체부호</th>\n",
       "      <th>수입통관계획코드</th>\n",
       "      <th>수입신고구분코드</th>\n",
       "      <th>수입거래구분코드</th>\n",
       "      <th>...</th>\n",
       "      <th>운송수단유형코드</th>\n",
       "      <th>반입보세구역부호</th>\n",
       "      <th>HS10단위부호</th>\n",
       "      <th>적출국가코드</th>\n",
       "      <th>원산지국가코드</th>\n",
       "      <th>관세율구분코드</th>\n",
       "      <th>관세율</th>\n",
       "      <th>검사결과코드</th>\n",
       "      <th>우범여부</th>\n",
       "      <th>핵심적발</th>\n",
       "    </tr>\n",
       "  </thead>\n",
       "  <tbody>\n",
       "    <tr>\n",
       "      <th>0</th>\n",
       "      <td>57298928</td>\n",
       "      <td>2020-01-01</td>\n",
       "      <td>121</td>\n",
       "      <td>2O5A2</td>\n",
       "      <td>82ZHWNL</td>\n",
       "      <td>missing</td>\n",
       "      <td>TQ18AK</td>\n",
       "      <td>D</td>\n",
       "      <td>B</td>\n",
       "      <td>15</td>\n",
       "      <td>...</td>\n",
       "      <td>10</td>\n",
       "      <td>2106003</td>\n",
       "      <td>8481900000</td>\n",
       "      <td>US</td>\n",
       "      <td>US</td>\n",
       "      <td>A</td>\n",
       "      <td>8.0</td>\n",
       "      <td>N3</td>\n",
       "      <td>1</td>\n",
       "      <td>1</td>\n",
       "    </tr>\n",
       "    <tr>\n",
       "      <th>1</th>\n",
       "      <td>85092852</td>\n",
       "      <td>2020-01-01</td>\n",
       "      <td>30</td>\n",
       "      <td>305K5</td>\n",
       "      <td>5IS70LE</td>\n",
       "      <td>missing</td>\n",
       "      <td>missing</td>\n",
       "      <td>C</td>\n",
       "      <td>B</td>\n",
       "      <td>11</td>\n",
       "      <td>...</td>\n",
       "      <td>40</td>\n",
       "      <td>4077010</td>\n",
       "      <td>2106909099</td>\n",
       "      <td>US</td>\n",
       "      <td>US</td>\n",
       "      <td>A</td>\n",
       "      <td>8.0</td>\n",
       "      <td>A</td>\n",
       "      <td>0</td>\n",
       "      <td>0</td>\n",
       "    </tr>\n",
       "    <tr>\n",
       "      <th>2</th>\n",
       "      <td>63014158</td>\n",
       "      <td>2020-01-01</td>\n",
       "      <td>20</td>\n",
       "      <td>CGMT6</td>\n",
       "      <td>GJ5KBL3</td>\n",
       "      <td>R9ZQOG7</td>\n",
       "      <td>missing</td>\n",
       "      <td>D</td>\n",
       "      <td>B</td>\n",
       "      <td>11</td>\n",
       "      <td>...</td>\n",
       "      <td>40</td>\n",
       "      <td>4077007</td>\n",
       "      <td>6307909000</td>\n",
       "      <td>US</td>\n",
       "      <td>US</td>\n",
       "      <td>A</td>\n",
       "      <td>10.0</td>\n",
       "      <td>A</td>\n",
       "      <td>0</td>\n",
       "      <td>0</td>\n",
       "    </tr>\n",
       "    <tr>\n",
       "      <th>3</th>\n",
       "      <td>40175917</td>\n",
       "      <td>2020-01-01</td>\n",
       "      <td>40</td>\n",
       "      <td>QWUTG</td>\n",
       "      <td>PBYW02T</td>\n",
       "      <td>missing</td>\n",
       "      <td>missing</td>\n",
       "      <td>C</td>\n",
       "      <td>B</td>\n",
       "      <td>94</td>\n",
       "      <td>...</td>\n",
       "      <td>40</td>\n",
       "      <td>4077106</td>\n",
       "      <td>6505009090</td>\n",
       "      <td>CN</td>\n",
       "      <td>CN</td>\n",
       "      <td>A</td>\n",
       "      <td>8.0</td>\n",
       "      <td>A</td>\n",
       "      <td>0</td>\n",
       "      <td>0</td>\n",
       "    </tr>\n",
       "    <tr>\n",
       "      <th>4</th>\n",
       "      <td>11602631</td>\n",
       "      <td>2020-01-01</td>\n",
       "      <td>30</td>\n",
       "      <td>0X1CO</td>\n",
       "      <td>MCX0GJB</td>\n",
       "      <td>4Z9PX0Y</td>\n",
       "      <td>missing</td>\n",
       "      <td>C</td>\n",
       "      <td>B</td>\n",
       "      <td>11</td>\n",
       "      <td>...</td>\n",
       "      <td>40</td>\n",
       "      <td>2006075</td>\n",
       "      <td>6204320000</td>\n",
       "      <td>CN</td>\n",
       "      <td>CN</td>\n",
       "      <td>FCN1</td>\n",
       "      <td>5.2</td>\n",
       "      <td>M1_N1</td>\n",
       "      <td>1</td>\n",
       "      <td>1</td>\n",
       "    </tr>\n",
       "    <tr>\n",
       "      <th>...</th>\n",
       "      <td>...</td>\n",
       "      <td>...</td>\n",
       "      <td>...</td>\n",
       "      <td>...</td>\n",
       "      <td>...</td>\n",
       "      <td>...</td>\n",
       "      <td>...</td>\n",
       "      <td>...</td>\n",
       "      <td>...</td>\n",
       "      <td>...</td>\n",
       "      <td>...</td>\n",
       "      <td>...</td>\n",
       "      <td>...</td>\n",
       "      <td>...</td>\n",
       "      <td>...</td>\n",
       "      <td>...</td>\n",
       "      <td>...</td>\n",
       "      <td>...</td>\n",
       "      <td>...</td>\n",
       "      <td>...</td>\n",
       "      <td>...</td>\n",
       "    </tr>\n",
       "    <tr>\n",
       "      <th>89350</th>\n",
       "      <td>78046993</td>\n",
       "      <td>2020-11-22</td>\n",
       "      <td>10</td>\n",
       "      <td>M9SYU</td>\n",
       "      <td>K8195QD</td>\n",
       "      <td>missing</td>\n",
       "      <td>PR5UFJ</td>\n",
       "      <td>C</td>\n",
       "      <td>B</td>\n",
       "      <td>11</td>\n",
       "      <td>...</td>\n",
       "      <td>10</td>\n",
       "      <td>4002001</td>\n",
       "      <td>703101000</td>\n",
       "      <td>CN</td>\n",
       "      <td>CN</td>\n",
       "      <td>W2</td>\n",
       "      <td>135.0</td>\n",
       "      <td>A</td>\n",
       "      <td>0</td>\n",
       "      <td>0</td>\n",
       "    </tr>\n",
       "    <tr>\n",
       "      <th>89351</th>\n",
       "      <td>85641293</td>\n",
       "      <td>2020-11-22</td>\n",
       "      <td>41</td>\n",
       "      <td>T7VQN</td>\n",
       "      <td>MSE4EAG</td>\n",
       "      <td>missing</td>\n",
       "      <td>missing</td>\n",
       "      <td>E</td>\n",
       "      <td>E</td>\n",
       "      <td>15</td>\n",
       "      <td>...</td>\n",
       "      <td>40</td>\n",
       "      <td>4077008</td>\n",
       "      <td>6804220000</td>\n",
       "      <td>CN</td>\n",
       "      <td>CN</td>\n",
       "      <td>FCN1</td>\n",
       "      <td>0.0</td>\n",
       "      <td>A</td>\n",
       "      <td>0</td>\n",
       "      <td>0</td>\n",
       "    </tr>\n",
       "    <tr>\n",
       "      <th>89352</th>\n",
       "      <td>15760215</td>\n",
       "      <td>2020-11-22</td>\n",
       "      <td>40</td>\n",
       "      <td>7Q31W</td>\n",
       "      <td>5BC6UCR</td>\n",
       "      <td>QW3LA8B</td>\n",
       "      <td>missing</td>\n",
       "      <td>C</td>\n",
       "      <td>B</td>\n",
       "      <td>29</td>\n",
       "      <td>...</td>\n",
       "      <td>10</td>\n",
       "      <td>2086001</td>\n",
       "      <td>8210005000</td>\n",
       "      <td>CN</td>\n",
       "      <td>CN</td>\n",
       "      <td>A</td>\n",
       "      <td>8.0</td>\n",
       "      <td>A</td>\n",
       "      <td>0</td>\n",
       "      <td>0</td>\n",
       "    </tr>\n",
       "    <tr>\n",
       "      <th>89353</th>\n",
       "      <td>20569033</td>\n",
       "      <td>2020-11-22</td>\n",
       "      <td>40</td>\n",
       "      <td>UJ0JR</td>\n",
       "      <td>U7KJPA6</td>\n",
       "      <td>TJW57CJ</td>\n",
       "      <td>O04TIW</td>\n",
       "      <td>F</td>\n",
       "      <td>B</td>\n",
       "      <td>15</td>\n",
       "      <td>...</td>\n",
       "      <td>40</td>\n",
       "      <td>1618003</td>\n",
       "      <td>3304999000</td>\n",
       "      <td>CA</td>\n",
       "      <td>CA</td>\n",
       "      <td>C</td>\n",
       "      <td>6.5</td>\n",
       "      <td>S1</td>\n",
       "      <td>1</td>\n",
       "      <td>2</td>\n",
       "    </tr>\n",
       "    <tr>\n",
       "      <th>89354</th>\n",
       "      <td>79725596</td>\n",
       "      <td>2020-11-22</td>\n",
       "      <td>30</td>\n",
       "      <td>4TUUB</td>\n",
       "      <td>J2D5UL7</td>\n",
       "      <td>0UOB77D</td>\n",
       "      <td>missing</td>\n",
       "      <td>Z</td>\n",
       "      <td>B</td>\n",
       "      <td>15</td>\n",
       "      <td>...</td>\n",
       "      <td>10</td>\n",
       "      <td>3078039</td>\n",
       "      <td>3304999000</td>\n",
       "      <td>HK</td>\n",
       "      <td>HK</td>\n",
       "      <td>C</td>\n",
       "      <td>6.5</td>\n",
       "      <td>A</td>\n",
       "      <td>0</td>\n",
       "      <td>0</td>\n",
       "    </tr>\n",
       "  </tbody>\n",
       "</table>\n",
       "<p>89355 rows × 24 columns</p>\n",
       "</div>"
      ],
      "text/plain": [
       "           신고번호        신고일자  통관지세관부호  신고인부호    수입자부호  해외거래처부호   특송업체부호  \\\n",
       "0      57298928  2020-01-01      121  2O5A2  82ZHWNL  missing   TQ18AK   \n",
       "1      85092852  2020-01-01       30  305K5  5IS70LE  missing  missing   \n",
       "2      63014158  2020-01-01       20  CGMT6  GJ5KBL3  R9ZQOG7  missing   \n",
       "3      40175917  2020-01-01       40  QWUTG  PBYW02T  missing  missing   \n",
       "4      11602631  2020-01-01       30  0X1CO  MCX0GJB  4Z9PX0Y  missing   \n",
       "...         ...         ...      ...    ...      ...      ...      ...   \n",
       "89350  78046993  2020-11-22       10  M9SYU  K8195QD  missing   PR5UFJ   \n",
       "89351  85641293  2020-11-22       41  T7VQN  MSE4EAG  missing  missing   \n",
       "89352  15760215  2020-11-22       40  7Q31W  5BC6UCR  QW3LA8B  missing   \n",
       "89353  20569033  2020-11-22       40  UJ0JR  U7KJPA6  TJW57CJ   O04TIW   \n",
       "89354  79725596  2020-11-22       30  4TUUB  J2D5UL7  0UOB77D  missing   \n",
       "\n",
       "      수입통관계획코드 수입신고구분코드  수입거래구분코드  ...  운송수단유형코드  반입보세구역부호    HS10단위부호  \\\n",
       "0            D        B        15  ...        10   2106003  8481900000   \n",
       "1            C        B        11  ...        40   4077010  2106909099   \n",
       "2            D        B        11  ...        40   4077007  6307909000   \n",
       "3            C        B        94  ...        40   4077106  6505009090   \n",
       "4            C        B        11  ...        40   2006075  6204320000   \n",
       "...        ...      ...       ...  ...       ...       ...         ...   \n",
       "89350        C        B        11  ...        10   4002001   703101000   \n",
       "89351        E        E        15  ...        40   4077008  6804220000   \n",
       "89352        C        B        29  ...        10   2086001  8210005000   \n",
       "89353        F        B        15  ...        40   1618003  3304999000   \n",
       "89354        Z        B        15  ...        10   3078039  3304999000   \n",
       "\n",
       "       적출국가코드  원산지국가코드  관세율구분코드    관세율 검사결과코드 우범여부 핵심적발  \n",
       "0          US       US        A    8.0     N3    1    1  \n",
       "1          US       US        A    8.0      A    0    0  \n",
       "2          US       US        A   10.0      A    0    0  \n",
       "3          CN       CN        A    8.0      A    0    0  \n",
       "4          CN       CN     FCN1    5.2  M1_N1    1    1  \n",
       "...       ...      ...      ...    ...    ...  ...  ...  \n",
       "89350      CN       CN       W2  135.0      A    0    0  \n",
       "89351      CN       CN     FCN1    0.0      A    0    0  \n",
       "89352      CN       CN        A    8.0      A    0    0  \n",
       "89353      CA       CA        C    6.5     S1    1    2  \n",
       "89354      HK       HK        C    6.5      A    0    0  \n",
       "\n",
       "[89355 rows x 24 columns]"
      ]
     },
     "execution_count": 61,
     "metadata": {},
     "output_type": "execute_result"
    }
   ],
   "source": [
    "df_train = pd.read_csv('./data/custom_contest/train.csv')\n",
    "df_test = pd.read_csv('./data/custom_contest/test.csv')\n",
    "df_train.head()\n",
    "for i,col in enumerate(list(df_train.columns)[2:-3]):\n",
    "    df_train[col].astype(str)\n",
    "df_train.fillna('missing')"
   ]
  },
  {
   "cell_type": "code",
   "execution_count": 62,
   "metadata": {},
   "outputs": [
    {
     "data": {
      "text/plain": [
       "신고번호        0.000000\n",
       "신고일자        0.000000\n",
       "통관지세관부호     0.000000\n",
       "신고인부호       0.000000\n",
       "수입자부호       0.000101\n",
       "해외거래처부호     0.340574\n",
       "특송업체부호      0.672038\n",
       "수입통관계획코드    0.000000\n",
       "수입신고구분코드    0.000000\n",
       "수입거래구분코드    0.000000\n",
       "수입종류코드      0.000000\n",
       "징수형태코드      0.000000\n",
       "신고중량(KG)    0.000000\n",
       "과세가격원화금액    0.000000\n",
       "운송수단유형코드    0.000000\n",
       "반입보세구역부호    0.000000\n",
       "HS10단위부호    0.000000\n",
       "적출국가코드      0.000000\n",
       "원산지국가코드     0.000000\n",
       "관세율구분코드     0.000000\n",
       "관세율         0.000000\n",
       "검사결과코드      0.000000\n",
       "우범여부        0.000000\n",
       "핵심적발        0.000000\n",
       "dtype: float64"
      ]
     },
     "execution_count": 62,
     "metadata": {},
     "output_type": "execute_result"
    }
   ],
   "source": [
    "df_train.isnull().sum() / df_train.shape[0]"
   ]
  },
  {
   "cell_type": "code",
   "execution_count": 74,
   "metadata": {},
   "outputs": [
    {
     "name": "stdout",
     "output_type": "stream",
     "text": [
      "0 th saving\n",
      "1 th saving\n",
      "2 th saving\n",
      "3 th saving\n",
      "4 th saving\n",
      "5 th saving\n",
      "6 th saving\n",
      "7 th saving\n",
      "8 th saving\n",
      "9 th saving\n",
      "10 th saving\n",
      "11 th saving\n",
      "12 th saving\n",
      "13 th saving\n",
      "14 th saving\n",
      "15 th saving\n",
      "16 th saving\n",
      "17 th saving\n",
      "18 th saving\n",
      "19 th saving\n",
      "20 th saving\n",
      "21 th saving\n",
      "22 th saving\n",
      "0 th saving\n",
      "1 th saving\n",
      "2 th saving\n",
      "3 th saving\n",
      "4 th saving\n",
      "5 th saving\n",
      "6 th saving\n",
      "7 th saving\n",
      "8 th saving\n",
      "9 th saving\n",
      "10 th saving\n",
      "11 th saving\n",
      "12 th saving\n",
      "13 th saving\n",
      "14 th saving\n",
      "15 th saving\n",
      "16 th saving\n",
      "17 th saving\n",
      "18 th saving\n",
      "19 th saving\n",
      "20 th saving\n",
      "21 th saving\n",
      "22 th saving\n"
     ]
    },
    {
     "data": {
      "text/plain": [
       "<Figure size 5184x1080 with 0 Axes>"
      ]
     },
     "metadata": {},
     "output_type": "display_data"
    },
    {
     "data": {
      "text/plain": [
       "<Figure size 1194.25x1080 with 0 Axes>"
      ]
     },
     "metadata": {},
     "output_type": "display_data"
    },
    {
     "data": {
      "text/plain": [
       "<Figure size 5184x1080 with 0 Axes>"
      ]
     },
     "metadata": {},
     "output_type": "display_data"
    },
    {
     "data": {
      "text/plain": [
       "<Figure size 1194.25x1080 with 0 Axes>"
      ]
     },
     "metadata": {},
     "output_type": "display_data"
    },
    {
     "data": {
      "text/plain": [
       "<Figure size 5184x1080 with 0 Axes>"
      ]
     },
     "metadata": {},
     "output_type": "display_data"
    },
    {
     "data": {
      "text/plain": [
       "<Figure size 1194.25x1080 with 0 Axes>"
      ]
     },
     "metadata": {},
     "output_type": "display_data"
    },
    {
     "data": {
      "text/plain": [
       "<Figure size 5184x1080 with 0 Axes>"
      ]
     },
     "metadata": {},
     "output_type": "display_data"
    },
    {
     "data": {
      "text/plain": [
       "<Figure size 1194.25x1080 with 0 Axes>"
      ]
     },
     "metadata": {},
     "output_type": "display_data"
    },
    {
     "data": {
      "text/plain": [
       "<Figure size 5184x1080 with 0 Axes>"
      ]
     },
     "metadata": {},
     "output_type": "display_data"
    },
    {
     "data": {
      "text/plain": [
       "<Figure size 1194.25x1080 with 0 Axes>"
      ]
     },
     "metadata": {},
     "output_type": "display_data"
    },
    {
     "data": {
      "text/plain": [
       "<Figure size 5184x1080 with 0 Axes>"
      ]
     },
     "metadata": {},
     "output_type": "display_data"
    },
    {
     "data": {
      "text/plain": [
       "<Figure size 1194.25x1080 with 0 Axes>"
      ]
     },
     "metadata": {},
     "output_type": "display_data"
    },
    {
     "data": {
      "text/plain": [
       "<Figure size 5184x1080 with 0 Axes>"
      ]
     },
     "metadata": {},
     "output_type": "display_data"
    },
    {
     "data": {
      "text/plain": [
       "<Figure size 1194.25x1080 with 0 Axes>"
      ]
     },
     "metadata": {},
     "output_type": "display_data"
    },
    {
     "data": {
      "text/plain": [
       "<Figure size 5184x1080 with 0 Axes>"
      ]
     },
     "metadata": {},
     "output_type": "display_data"
    },
    {
     "data": {
      "text/plain": [
       "<Figure size 1194.25x1080 with 0 Axes>"
      ]
     },
     "metadata": {},
     "output_type": "display_data"
    },
    {
     "data": {
      "text/plain": [
       "<Figure size 5184x1080 with 0 Axes>"
      ]
     },
     "metadata": {},
     "output_type": "display_data"
    },
    {
     "data": {
      "text/plain": [
       "<Figure size 1194.25x1080 with 0 Axes>"
      ]
     },
     "metadata": {},
     "output_type": "display_data"
    },
    {
     "data": {
      "text/plain": [
       "<Figure size 5184x1080 with 0 Axes>"
      ]
     },
     "metadata": {},
     "output_type": "display_data"
    },
    {
     "data": {
      "text/plain": [
       "<Figure size 1194.25x1080 with 0 Axes>"
      ]
     },
     "metadata": {},
     "output_type": "display_data"
    },
    {
     "data": {
      "text/plain": [
       "<Figure size 5184x1080 with 0 Axes>"
      ]
     },
     "metadata": {},
     "output_type": "display_data"
    },
    {
     "data": {
      "text/plain": [
       "<Figure size 1194.25x1080 with 0 Axes>"
      ]
     },
     "metadata": {},
     "output_type": "display_data"
    },
    {
     "data": {
      "text/plain": [
       "<Figure size 5184x1080 with 0 Axes>"
      ]
     },
     "metadata": {},
     "output_type": "display_data"
    },
    {
     "data": {
      "text/plain": [
       "<Figure size 1194.25x1080 with 0 Axes>"
      ]
     },
     "metadata": {},
     "output_type": "display_data"
    },
    {
     "data": {
      "text/plain": [
       "<Figure size 5184x1080 with 0 Axes>"
      ]
     },
     "metadata": {},
     "output_type": "display_data"
    },
    {
     "data": {
      "text/plain": [
       "<Figure size 1194.25x1080 with 0 Axes>"
      ]
     },
     "metadata": {},
     "output_type": "display_data"
    },
    {
     "data": {
      "text/plain": [
       "<Figure size 5184x1080 with 0 Axes>"
      ]
     },
     "metadata": {},
     "output_type": "display_data"
    },
    {
     "data": {
      "text/plain": [
       "<Figure size 1194.25x1080 with 0 Axes>"
      ]
     },
     "metadata": {},
     "output_type": "display_data"
    },
    {
     "data": {
      "text/plain": [
       "<Figure size 5184x1080 with 0 Axes>"
      ]
     },
     "metadata": {},
     "output_type": "display_data"
    },
    {
     "data": {
      "text/plain": [
       "<Figure size 1194.25x1080 with 0 Axes>"
      ]
     },
     "metadata": {},
     "output_type": "display_data"
    },
    {
     "data": {
      "text/plain": [
       "<Figure size 5184x1080 with 0 Axes>"
      ]
     },
     "metadata": {},
     "output_type": "display_data"
    },
    {
     "data": {
      "text/plain": [
       "<Figure size 1194.25x1080 with 0 Axes>"
      ]
     },
     "metadata": {},
     "output_type": "display_data"
    },
    {
     "data": {
      "text/plain": [
       "<Figure size 5184x1080 with 0 Axes>"
      ]
     },
     "metadata": {},
     "output_type": "display_data"
    },
    {
     "data": {
      "text/plain": [
       "<Figure size 1194.25x1080 with 0 Axes>"
      ]
     },
     "metadata": {},
     "output_type": "display_data"
    },
    {
     "data": {
      "text/plain": [
       "<Figure size 5184x1080 with 0 Axes>"
      ]
     },
     "metadata": {},
     "output_type": "display_data"
    },
    {
     "data": {
      "text/plain": [
       "<Figure size 1194.25x1080 with 0 Axes>"
      ]
     },
     "metadata": {},
     "output_type": "display_data"
    },
    {
     "data": {
      "text/plain": [
       "<Figure size 5184x1080 with 0 Axes>"
      ]
     },
     "metadata": {},
     "output_type": "display_data"
    },
    {
     "data": {
      "text/plain": [
       "<Figure size 1194.25x1080 with 0 Axes>"
      ]
     },
     "metadata": {},
     "output_type": "display_data"
    },
    {
     "data": {
      "text/plain": [
       "<Figure size 5184x1080 with 0 Axes>"
      ]
     },
     "metadata": {},
     "output_type": "display_data"
    },
    {
     "data": {
      "text/plain": [
       "<Figure size 1194.25x1080 with 0 Axes>"
      ]
     },
     "metadata": {},
     "output_type": "display_data"
    },
    {
     "data": {
      "text/plain": [
       "<Figure size 5184x1080 with 0 Axes>"
      ]
     },
     "metadata": {},
     "output_type": "display_data"
    },
    {
     "data": {
      "text/plain": [
       "<Figure size 1194.25x1080 with 0 Axes>"
      ]
     },
     "metadata": {},
     "output_type": "display_data"
    },
    {
     "data": {
      "text/plain": [
       "<Figure size 5184x1080 with 0 Axes>"
      ]
     },
     "metadata": {},
     "output_type": "display_data"
    },
    {
     "data": {
      "text/plain": [
       "<Figure size 1194.25x1080 with 0 Axes>"
      ]
     },
     "metadata": {},
     "output_type": "display_data"
    },
    {
     "data": {
      "text/plain": [
       "<Figure size 5184x1080 with 0 Axes>"
      ]
     },
     "metadata": {},
     "output_type": "display_data"
    },
    {
     "data": {
      "text/plain": [
       "<Figure size 1194.25x1080 with 0 Axes>"
      ]
     },
     "metadata": {},
     "output_type": "display_data"
    },
    {
     "data": {
      "text/plain": [
       "<Figure size 5184x1080 with 0 Axes>"
      ]
     },
     "metadata": {},
     "output_type": "display_data"
    },
    {
     "data": {
      "text/plain": [
       "<Figure size 1194.25x1080 with 0 Axes>"
      ]
     },
     "metadata": {},
     "output_type": "display_data"
    },
    {
     "data": {
      "text/plain": [
       "<Figure size 5184x1080 with 0 Axes>"
      ]
     },
     "metadata": {},
     "output_type": "display_data"
    },
    {
     "data": {
      "text/plain": [
       "<Figure size 1194.25x1080 with 0 Axes>"
      ]
     },
     "metadata": {},
     "output_type": "display_data"
    },
    {
     "data": {
      "text/plain": [
       "<Figure size 5184x1080 with 0 Axes>"
      ]
     },
     "metadata": {},
     "output_type": "display_data"
    },
    {
     "data": {
      "text/plain": [
       "<Figure size 1194.25x1080 with 0 Axes>"
      ]
     },
     "metadata": {},
     "output_type": "display_data"
    },
    {
     "data": {
      "text/plain": [
       "<Figure size 5184x1080 with 0 Axes>"
      ]
     },
     "metadata": {},
     "output_type": "display_data"
    },
    {
     "data": {
      "text/plain": [
       "<Figure size 1194.25x1080 with 0 Axes>"
      ]
     },
     "metadata": {},
     "output_type": "display_data"
    },
    {
     "data": {
      "text/plain": [
       "<Figure size 5184x1080 with 0 Axes>"
      ]
     },
     "metadata": {},
     "output_type": "display_data"
    },
    {
     "data": {
      "text/plain": [
       "<Figure size 1194.25x1080 with 0 Axes>"
      ]
     },
     "metadata": {},
     "output_type": "display_data"
    },
    {
     "data": {
      "text/plain": [
       "<Figure size 5184x1080 with 0 Axes>"
      ]
     },
     "metadata": {},
     "output_type": "display_data"
    },
    {
     "data": {
      "text/plain": [
       "<Figure size 1194.25x1080 with 0 Axes>"
      ]
     },
     "metadata": {},
     "output_type": "display_data"
    },
    {
     "data": {
      "text/plain": [
       "<Figure size 5184x1080 with 0 Axes>"
      ]
     },
     "metadata": {},
     "output_type": "display_data"
    },
    {
     "data": {
      "text/plain": [
       "<Figure size 1194.25x1080 with 0 Axes>"
      ]
     },
     "metadata": {},
     "output_type": "display_data"
    }
   ],
   "source": [
    "df_train['HS10단위부호'] = df_train['HS10단위부호'].astype(str)\n",
    "df_train['HS_upper'] = df_train['HS10단위부호'].str.slice(start = 0, stop = 2)\n",
    "df_train['HS_middle'] = df_train['HS10단위부호'].str.slice(start = 2, stop = 4)\n",
    "df_train['HS_lower'] = df_train['HS10단위부호'].str.slice(start = 4, stop = 6)\n",
    "df_train['HS_bottom'] = df_train['HS10단위부호'].str.slice(start = 6, stop = 8)\n",
    "df_train_tmp=df_train.pop('우범여부')\n",
    "df_train_tmp2=df_train.pop('핵심적발')\n",
    "df_train['우범여부']=df_train_tmp\n",
    "df_train['핵심적발']=df_train_tmp2\n",
    "for data_type in ['우범여부','핵심적발']:\n",
    "    for i,col in enumerate(list(df_train.columns)[2:-3]):\n",
    "        print(i,'th saving')\n",
    "        if len(df_train[col].unique())>100:\n",
    "            continue\n",
    "        df_train[[col,data_type]].groupby([col], as_index=True).mean().plot.bar(figsize=(72,15))\n",
    "        plt.savefig('./{}_{}_dist.jpg'.format(col,data_type))\n",
    "        plt.clf()\n",
    "        df_train.groupby(col)[data_type].value_counts(normalize=True).mul(100).rename('percent').reset_index().pipe((sns.catplot,'data'), x=col,y='percent',hue=data_type,kind='bar',size=15)\n",
    "        plt.savefig('./{}_{}_ratio.jpg'.format(col,data_type))\n",
    "        # sns.countplot(col,hue='우범여부',data=df_train,ax=ax[1])\n",
    "        plt.clf()"
   ]
  },
  {
   "cell_type": "code",
   "execution_count": 75,
   "metadata": {},
   "outputs": [
    {
     "data": {
      "text/plain": [
       "<Figure size 2880x864 with 0 Axes>"
      ]
     },
     "metadata": {},
     "output_type": "display_data"
    },
    {
     "data": {
      "text/plain": [
       "<Figure size 2880x864 with 0 Axes>"
      ]
     },
     "metadata": {},
     "output_type": "display_data"
    },
    {
     "data": {
      "text/plain": [
       "<Figure size 2880x864 with 0 Axes>"
      ]
     },
     "metadata": {},
     "output_type": "display_data"
    },
    {
     "data": {
      "text/plain": [
       "<Figure size 2880x864 with 0 Axes>"
      ]
     },
     "metadata": {},
     "output_type": "display_data"
    },
    {
     "data": {
      "text/plain": [
       "<Figure size 2880x864 with 0 Axes>"
      ]
     },
     "metadata": {},
     "output_type": "display_data"
    },
    {
     "data": {
      "text/plain": [
       "<Figure size 2880x864 with 0 Axes>"
      ]
     },
     "metadata": {},
     "output_type": "display_data"
    }
   ],
   "source": [
    "for data_type in ['우범여부','핵심적발']:\n",
    "    for col in ['관세율','신고중량(KG)','과세가격원화금액']:\n",
    "        fig, ax = plt.subplots(1, 1, figsize=(20, 12))\n",
    "        if data_type=='핵심적발':\n",
    "            sns.kdeplot(np.log(df_train[df_train[data_type] == 1][col]+1), ax=ax)\n",
    "            sns.kdeplot(np.log(df_train[df_train[data_type] == 2][col]+1), ax=ax)\n",
    "            plt.legend(['{} == 0'.format(data_type),'{} == 1'.format(data_type), '{} == 2'.format(data_type)])\n",
    "        else:\n",
    "            sns.kdeplot(np.log(df_train[df_train[data_type] == 0][col]+1), ax=ax)\n",
    "            sns.kdeplot(np.log(df_train[df_train[data_type] == 1][col]+1), ax=ax)\n",
    "            plt.legend(['{} == 0'.format(data_type),'{} == 1'.format(data_type)])\n",
    "        plt.savefig('{}_his_{}.jpg'.format(col,data_type))\n",
    "        plt.clf()"
   ]
  },
  {
   "cell_type": "code",
   "execution_count": null,
   "metadata": {},
   "outputs": [],
   "source": []
  }
 ],
 "metadata": {
  "interpreter": {
   "hash": "748394da8a867656525da93a356544f0f15fb0021d7a843e967cb2c6876245f4"
  },
  "kernelspec": {
   "display_name": "Python 3",
   "language": "python",
   "name": "python3"
  },
  "language_info": {
   "codemirror_mode": {
    "name": "ipython",
    "version": 3
   },
   "file_extension": ".py",
   "mimetype": "text/x-python",
   "name": "python",
   "nbconvert_exporter": "python",
   "pygments_lexer": "ipython3",
   "version": "3.8.5"
  }
 },
 "nbformat": 4,
 "nbformat_minor": 4
}
